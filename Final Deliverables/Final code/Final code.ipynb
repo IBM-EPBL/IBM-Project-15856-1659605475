{
 "cells": [
  {
   "cell_type": "markdown",
   "id": "22f0d2db",
   "metadata": {},
   "source": [
    "# FINAL CODE\n",
    "\n",
    "# Emerging Methods for Early Detection of Forest Fires.\n",
    "\n",
    "# TEAM IDPNT2022TMID03630\n",
    "\n",
    "### Mekala Bhargav.\n",
    "### N Pavan.\n",
    "### Munjuru Bharadwaja.\n",
    "### Nariboyina Pavan Sai.\n",
    "\n",
    "\n",
    "# Detection of Fire using Live video capturing Camera."
   ]
  },
  {
   "cell_type": "code",
   "execution_count": 28,
   "id": "ab6dae30",
   "metadata": {},
   "outputs": [
    {
     "name": "stdout",
     "output_type": "stream",
     "text": [
      "Found 436 images belonging to 2 classes.\n",
      "Found 121 images belonging to 2 classes.\n",
      "14/14 [==============================] - 120s 8s/step - loss: 0.5432 - accuracy: 0.7248 - val_loss: 0.3178 - val_accuracy: 0.8601\n",
      "14/14 [==============================] - 35s 3s/step\n",
      "436\n"
     ]
    }
   ],
   "source": [
    "import tensorflow as tf\n",
    "import numpy as np\n",
    "from tensorflow import keras\n",
    "import os\n",
    "import cv2\n",
    "from tensorflow.keras.preprocessing.image import ImageDataGenerator\n",
    "from tensorflow.keras.preprocessing import image\n",
    "import keras \n",
    "from keras.preprocessing.image import ImageDataGenerator\n",
    "\n",
    "train_datagen=ImageDataGenerator(rescale=1./255,shear_range=0.2,rotation_range=180,zoom_range=0.2,horizontal_flip=True)\n",
    "test_datagen=ImageDataGenerator(rescale=1./255)\n",
    "\n",
    "x_train=train_datagen.flow_from_directory(r'C:\\Users\\green\\Downloads\\Dataset\\Dataset\\train_set',target_size=(128,128),batch_size=32,class_mode='binary')\n",
    "x_test=test_datagen.flow_from_directory(r'C:\\Users\\green\\Downloads\\Dataset\\Dataset\\test_set',target_size=(128,128),batch_size=32,class_mode='binary')\n",
    "\n",
    "train=ImageDataGenerator(rescale=1./255,\n",
    "                                 shear_range=0.2,\n",
    "                                 rotation_range=180,\n",
    "                                 zoom_range=0.2,\n",
    "                                 horizontal_flip=True)\n",
    "train = ImageDataGenerator(rescale=1/255)\n",
    "test = ImageDataGenerator(rescale=1/255)\n",
    "\n",
    "x_train.class_indices\n",
    "\n",
    "\n",
    "from keras.models import Sequential\n",
    "#to add layer import Dense\n",
    "from keras.layers import Dense\n",
    "#to create convolution kernel import convolution2D\n",
    "from keras.layers import Convolution2D\n",
    "#import Maxpooling layer\n",
    "from keras.layers import MaxPooling2D\n",
    "#import flatten layer\n",
    "from keras.layers import Flatten\n",
    "import warnings\n",
    "warnings.filterwarnings('ignore')\n",
    "\n",
    "\n",
    "model = keras.Sequential()\n",
    "model.add(Convolution2D(32,(3,3),input_shape=(128,128,3),activation='relu'))\n",
    "model.add(MaxPooling2D(pool_size=(2,2)))\n",
    "model.add(Convolution2D(32,(3,3),activation='relu'))\n",
    "model.add(MaxPooling2D(pool_size=(2,2)))\n",
    "model.add(Convolution2D(32,(3,3),activation='relu'))\n",
    "model.add(MaxPooling2D(pool_size=(2,2)))\n",
    "model.add(Convolution2D(32,(3,3),activation='relu'))\n",
    "model.add(MaxPooling2D(pool_size=(2,2)))\n",
    "model.add(Flatten())\n",
    "\n",
    "model.add(Dense(150,activation='relu'))\n",
    "model.add(Dense(1,activation='sigmoid'))\n",
    "model.compile(loss = 'binary_crossentropy',\n",
    "              optimizer = \"adam\",\n",
    "              metrics = [\"accuracy\"])\n",
    "r = model.fit(x_train, epochs = 1, validation_data = x_train)\n",
    "predictions = model.predict(x_train)\n",
    "predictions = np.round(predictions)\n",
    "predictions\n",
    "print(len(predictions))\n",
    "\n",
    "#import load_model from keras.model\n",
    "from keras.models import load_model\n",
    "#import image class from keras\n",
    "import tensorflow as tf\n",
    "from tensorflow.keras.preprocessing import image\n",
    "#import numpy\n",
    "import numpy as np\n",
    "#import cv2\n",
    "import cv2\n",
    "model.compile(optimizer='adam',loss='binary_crossentropy',metrics=['accuracy'])\n",
    "model.save(\"forest1.h5\")    "
   ]
  },
  {
   "cell_type": "code",
   "execution_count": 3,
   "id": "99245567",
   "metadata": {},
   "outputs": [
    {
     "name": "stdout",
     "output_type": "stream",
     "text": [
      "4/4 [==============================] - 14s 3s/step\n"
     ]
    }
   ],
   "source": [
    "from tensorflow.keras.models import load_model\n",
    "from tensorflow.keras.preprocessing import image\n",
    "import numpy as np\n",
    "model=load_model(\"forest1.h5\")\n",
    "img=image.load_img(r\"C:\\Users\\green\\Downloads\\Dataset\\Dataset\\train_set\\with fire\\with fire.jpeg\")\n",
    "x=image.img_to_array(img)\n",
    "x=np.expand_dims(x,axis=0)\n",
    "pred=model.predict(x_test) \n",
    "classes_x=np.argmax(pred,axis=1)\n",
    "\n",
    "\n",
    "\n",
    "\n",
    "\n"
   ]
  },
  {
   "cell_type": "markdown",
   "id": "886c0743",
   "metadata": {},
   "source": [
    "# Capturing using Video camera and Detection of fire which sends alert message from twilio account to provided phone number"
   ]
  },
  {
   "cell_type": "code",
   "execution_count": 34,
   "id": "9e152abb",
   "metadata": {},
   "outputs": [
    {
     "name": "stdout",
     "output_type": "stream",
     "text": [
      "1/1 [==============================] - 0s 263ms/step\n",
      "[[0.]]\n",
      "1/1 [==============================] - 0s 47ms/step\n",
      "no danger\n",
      "1/1 [==============================] - 0s 110ms/step\n",
      "[[0.]]\n",
      "1/1 [==============================] - 0s 79ms/step\n",
      "no danger\n",
      "1/1 [==============================] - 0s 79ms/step\n",
      "[[1.]]\n",
      "1/1 [==============================] - 0s 48ms/step\n",
      "SMdf3570b7673b9c040709d19eea116729\n",
      "Fire Detected\n",
      "SMS sent!\n"
     ]
    }
   ],
   "source": [
    "\n",
    "import cv2\n",
    "import numpy as np\n",
    "from tensorflow.keras.preprocessing import image\n",
    "from tensorflow.keras.models import load_model\n",
    "from twilio.rest import Client\n",
    "from playsound import playsound\n",
    "model = load_model(r\"forest1.h5\")\n",
    "video=cv2.VideoCapture(0)\n",
    "name=['forest','with fire']\n",
    "\n",
    "while(1):\n",
    "    success, frame = video.read()\n",
    "    cv2.imwrite(\"image.jpg\",frame)\n",
    "    img = image.load_img(\"image.jpg\",target_size = (128,128))\n",
    "    x  = image.img_to_array(img)\n",
    "    x = np.expand_dims(x,axis = 0)\n",
    "    pred = model.predict(x)\n",
    "    classes_x=np.argmax(pred,axis=1)\n",
    "    p = pred[0][0]\n",
    "    print(pred)\n",
    "    \n",
    "    \n",
    "    \n",
    "    pred = model.predict(x)\n",
    "    classes_x=np.argmax(pred,axis=1)\n",
    "    if pred[0]==1:\n",
    "        account_sid = 'AC8d01fXXXXXXXXXXXXXXXXXXX'\n",
    "        auth_token = '3af15037f3XXXXXXXXXXXXXXXXX'\n",
    "        client = Client(account_sid, auth_token)\n",
    "\n",
    "        message = client.messages \\\n",
    "        .create(\n",
    "         body='Forest Fire is detected, stay alert',\n",
    "         from_='+1385XXXXXX', \n",
    "         to='+919550630271')\n",
    "        print(message.sid)\n",
    "    \n",
    "        print('Fire Detected')\n",
    "        print ('SMS sent!')\n",
    "        break\n",
    "    else:\n",
    "        print(\"no danger\")\n",
    "       #break\n",
    "    cv2.imshow(\"image\",frame)\n",
    "   \n",
    "    if cv2.waitKey(1) & 0xFF == ord('a'): \n",
    "        break\n",
    "\n",
    "video.release()\n",
    "cv2.destroyAllWindows()"
   ]
  },
  {
   "cell_type": "code",
   "execution_count": null,
   "id": "3ab9e79d",
   "metadata": {},
   "outputs": [],
   "source": []
  }
 ],
 "metadata": {
  "kernelspec": {
   "display_name": "Python 3 (ipykernel)",
   "language": "python",
   "name": "python3"
  },
  "language_info": {
   "codemirror_mode": {
    "name": "ipython",
    "version": 3
   },
   "file_extension": ".py",
   "mimetype": "text/x-python",
   "name": "python",
   "nbconvert_exporter": "python",
   "pygments_lexer": "ipython3",
   "version": "3.9.13"
  }
 },
 "nbformat": 4,
 "nbformat_minor": 5
}
