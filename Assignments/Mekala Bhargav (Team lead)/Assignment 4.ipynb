{
 "cells": [
  {
   "cell_type": "markdown",
   "id": "2925db68",
   "metadata": {},
   "source": [
    "# Question 1:\n",
    "### Import the necessary libraries\n",
    "\n",
    "\n",
    "Solution:"
   ]
  },
  {
   "cell_type": "code",
   "execution_count": 3,
   "id": "6f29d4e4",
   "metadata": {
    "scrolled": true
   },
   "outputs": [],
   "source": [
    "import pandas as pd\n",
    "import numpy as np \n",
    "import matplotlib.pyplot as plt\n",
    "import seaborn as sns\n",
    "from sklearn.model_selection import train_test_split\n",
    "from sklearn.preprocessing import LabelEncoder\n",
    "from keras.models import Model\n",
    "from keras.layers import LSTM, Activation, Dense, Dropout, Input, Embedding\n",
    "from keras.optimizers import RMSprop\n",
    "from keras.preprocessing.text import Tokenizer\n",
    "from keras.preprocessing import sequence\n",
    "from keras.utils import pad_sequences\n",
    "from keras.utils import to_categorical\n",
    "from keras.callbacks import EarlyStopping"
   ]
  },
  {
   "cell_type": "markdown",
   "id": "8aa4098a",
   "metadata": {},
   "source": [
    "# Question 2:\n",
    "### Download the Dataset\n",
    "Solution:\n",
    "Dataset Downloaded and uploaded to drive https://www.kaggle.com/code/kredy10/simple-lstm-for-text\u0002classification/data"
   ]
  },
  {
   "cell_type": "markdown",
   "id": "1546a74d",
   "metadata": {},
   "source": [
    "# Question 3:\n",
    "### Read dataset and do pre-processing\n",
    "Solution:\n",
    "Read dataset\n"
   ]
  },
  {
   "cell_type": "code",
   "execution_count": 4,
   "id": "b128bd16",
   "metadata": {},
   "outputs": [
    {
     "data": {
      "text/html": [
       "<div>\n",
       "<style scoped>\n",
       "    .dataframe tbody tr th:only-of-type {\n",
       "        vertical-align: middle;\n",
       "    }\n",
       "\n",
       "    .dataframe tbody tr th {\n",
       "        vertical-align: top;\n",
       "    }\n",
       "\n",
       "    .dataframe thead th {\n",
       "        text-align: right;\n",
       "    }\n",
       "</style>\n",
       "<table border=\"1\" class=\"dataframe\">\n",
       "  <thead>\n",
       "    <tr style=\"text-align: right;\">\n",
       "      <th></th>\n",
       "      <th>v1</th>\n",
       "      <th>v2</th>\n",
       "      <th>Unnamed: 2</th>\n",
       "      <th>Unnamed: 3</th>\n",
       "      <th>Unnamed: 4</th>\n",
       "    </tr>\n",
       "  </thead>\n",
       "  <tbody>\n",
       "    <tr>\n",
       "      <th>0</th>\n",
       "      <td>ham</td>\n",
       "      <td>Go until jurong point, crazy.. Available only ...</td>\n",
       "      <td>NaN</td>\n",
       "      <td>NaN</td>\n",
       "      <td>NaN</td>\n",
       "    </tr>\n",
       "    <tr>\n",
       "      <th>1</th>\n",
       "      <td>ham</td>\n",
       "      <td>Ok lar... Joking wif u oni...</td>\n",
       "      <td>NaN</td>\n",
       "      <td>NaN</td>\n",
       "      <td>NaN</td>\n",
       "    </tr>\n",
       "    <tr>\n",
       "      <th>2</th>\n",
       "      <td>spam</td>\n",
       "      <td>Free entry in 2 a wkly comp to win FA Cup fina...</td>\n",
       "      <td>NaN</td>\n",
       "      <td>NaN</td>\n",
       "      <td>NaN</td>\n",
       "    </tr>\n",
       "    <tr>\n",
       "      <th>3</th>\n",
       "      <td>ham</td>\n",
       "      <td>U dun say so early hor... U c already then say...</td>\n",
       "      <td>NaN</td>\n",
       "      <td>NaN</td>\n",
       "      <td>NaN</td>\n",
       "    </tr>\n",
       "    <tr>\n",
       "      <th>4</th>\n",
       "      <td>ham</td>\n",
       "      <td>Nah I don't think he goes to usf, he lives aro...</td>\n",
       "      <td>NaN</td>\n",
       "      <td>NaN</td>\n",
       "      <td>NaN</td>\n",
       "    </tr>\n",
       "  </tbody>\n",
       "</table>\n",
       "</div>"
      ],
      "text/plain": [
       "     v1                                                 v2 Unnamed: 2  \\\n",
       "0   ham  Go until jurong point, crazy.. Available only ...        NaN   \n",
       "1   ham                      Ok lar... Joking wif u oni...        NaN   \n",
       "2  spam  Free entry in 2 a wkly comp to win FA Cup fina...        NaN   \n",
       "3   ham  U dun say so early hor... U c already then say...        NaN   \n",
       "4   ham  Nah I don't think he goes to usf, he lives aro...        NaN   \n",
       "\n",
       "  Unnamed: 3 Unnamed: 4  \n",
       "0        NaN        NaN  \n",
       "1        NaN        NaN  \n",
       "2        NaN        NaN  \n",
       "3        NaN        NaN  \n",
       "4        NaN        NaN  "
      ]
     },
     "execution_count": 4,
     "metadata": {},
     "output_type": "execute_result"
    }
   ],
   "source": [
    "df=pd.read_csv('C:\\SANMIKA\\IBM Project\\spam.csv',delimiter=',',encoding='latin-1')\n",
    "df.head()"
   ]
  },
  {
   "cell_type": "markdown",
   "id": "57c1fa1b",
   "metadata": {},
   "source": [
    "## Pre-processing the Dataset"
   ]
  },
  {
   "cell_type": "code",
   "execution_count": 6,
   "id": "e8a742b1",
   "metadata": {},
   "outputs": [
    {
     "name": "stdout",
     "output_type": "stream",
     "text": [
      "<class 'pandas.core.frame.DataFrame'>\n",
      "RangeIndex: 5572 entries, 0 to 5571\n",
      "Data columns (total 2 columns):\n",
      " #   Column  Non-Null Count  Dtype \n",
      "---  ------  --------------  ----- \n",
      " 0   v1      5572 non-null   object\n",
      " 1   v2      5572 non-null   object\n",
      "dtypes: object(2)\n",
      "memory usage: 87.2+ KB\n"
     ]
    }
   ],
   "source": [
    "df.drop(['Unnamed: 2','Unnamed: 3','Unnamed: 4'],axis=1,inplace=True)\n",
    "df.info()"
   ]
  },
  {
   "cell_type": "code",
   "execution_count": 7,
   "id": "364251e4",
   "metadata": {},
   "outputs": [],
   "source": [
    "X=df.v2\n",
    "Y=df.v1\n",
    "le=LabelEncoder()\n",
    "Y=le.fit_transform(Y)\n",
    "Y=Y.reshape(-1,1)"
   ]
  },
  {
   "cell_type": "code",
   "execution_count": 8,
   "id": "34516318",
   "metadata": {},
   "outputs": [],
   "source": [
    "X_train,X_test,Y_train,Y_test=train_test_split(X,Y,test_size=0.15)"
   ]
  },
  {
   "cell_type": "code",
   "execution_count": 10,
   "id": "ed495dcc",
   "metadata": {},
   "outputs": [],
   "source": [
    "max_words=1000\n",
    "max_len=150\n",
    "tok=Tokenizer(num_words=max_words)\n",
    "tok.fit_on_texts(X_train)\n",
    "sequences=tok.texts_to_sequences(X_train)\n",
    "sequences_matrix=pad_sequences(sequences,maxlen=max_len)"
   ]
  },
  {
   "cell_type": "code",
   "execution_count": 11,
   "id": "75b9b311",
   "metadata": {},
   "outputs": [
    {
     "name": "stdout",
     "output_type": "stream",
     "text": [
      "Model: \"model\"\n",
      "_________________________________________________________________\n",
      " Layer (type)                Output Shape              Param #   \n",
      "=================================================================\n",
      " inputs (InputLayer)         [(None, 150)]             0         \n",
      "                                                                 \n",
      " embedding (Embedding)       (None, 150, 50)           50000     \n",
      "                                                                 \n",
      " lstm (LSTM)                 (None, 64)                29440     \n",
      "                                                                 \n",
      " FC1 (Dense)                 (None, 256)               16640     \n",
      "                                                                 \n",
      " activation (Activation)     (None, 256)               0         \n",
      "                                                                 \n",
      " dropout (Dropout)           (None, 256)               0         \n",
      "                                                                 \n",
      " out_layer (Dense)           (None, 1)                 257       \n",
      "                                                                 \n",
      " activation_1 (Activation)   (None, 1)                 0         \n",
      "                                                                 \n",
      "=================================================================\n",
      "Total params: 96,337\n",
      "Trainable params: 96,337\n",
      "Non-trainable params: 0\n",
      "_________________________________________________________________\n"
     ]
    }
   ],
   "source": [
    "inputs=Input(name='inputs',shape=[max_len])\n",
    "layer=Embedding(max_words,50,input_length=max_len)(inputs)\n",
    "layer=LSTM(64)(layer)\n",
    "layer=Dense(256,name='FC1')(layer)\n",
    "layer=Activation('relu')(layer)\n",
    "layer=Dropout(0.5)(layer)\n",
    "layer=Dense(1,name='out_layer')(layer)\n",
    "layer=Activation('sigmoid')(layer)\n",
    "model=Model(inputs=inputs,outputs=layer)\n",
    "model.summary()"
   ]
  },
  {
   "cell_type": "code",
   "execution_count": 12,
   "id": "0b69c30e",
   "metadata": {},
   "outputs": [],
   "source": [
    "model.compile(loss='binary_crossentropy',optimizer=RMSprop(),metrics=['accuracy'])"
   ]
  },
  {
   "cell_type": "markdown",
   "id": "27cadad4",
   "metadata": {},
   "source": [
    "## Train and Fit the Model"
   ]
  },
  {
   "cell_type": "code",
   "execution_count": 13,
   "id": "4c4cfb41",
   "metadata": {},
   "outputs": [
    {
     "name": "stdout",
     "output_type": "stream",
     "text": [
      "Epoch 1/10\n",
      "30/30 [==============================] - 17s 319ms/step - loss: 0.3365 - accuracy: 0.8770 - val_loss: 0.1369 - val_accuracy: 0.9473\n",
      "Epoch 2/10\n",
      "30/30 [==============================] - 8s 270ms/step - loss: 0.0932 - accuracy: 0.9770 - val_loss: 0.0442 - val_accuracy: 0.9863\n",
      "Epoch 3/10\n",
      "30/30 [==============================] - 8s 269ms/step - loss: 0.0526 - accuracy: 0.9855 - val_loss: 0.0377 - val_accuracy: 0.9873\n",
      "Epoch 4/10\n",
      "30/30 [==============================] - 8s 278ms/step - loss: 0.0403 - accuracy: 0.9881 - val_loss: 0.0401 - val_accuracy: 0.9873\n",
      "Epoch 5/10\n",
      "30/30 [==============================] - 9s 283ms/step - loss: 0.0324 - accuracy: 0.9894 - val_loss: 0.0375 - val_accuracy: 0.9842\n",
      "Epoch 6/10\n",
      "30/30 [==============================] - 8s 268ms/step - loss: 0.0232 - accuracy: 0.9929 - val_loss: 0.0339 - val_accuracy: 0.9863\n",
      "Epoch 7/10\n",
      "30/30 [==============================] - 8s 261ms/step - loss: 0.0185 - accuracy: 0.9942 - val_loss: 0.0374 - val_accuracy: 0.9863\n",
      "Epoch 8/10\n",
      "30/30 [==============================] - 8s 278ms/step - loss: 0.0160 - accuracy: 0.9958 - val_loss: 0.0473 - val_accuracy: 0.9852\n",
      "Epoch 9/10\n",
      "30/30 [==============================] - 9s 314ms/step - loss: 0.0097 - accuracy: 0.9974 - val_loss: 0.0576 - val_accuracy: 0.9852\n",
      "Epoch 10/10\n",
      "30/30 [==============================] - 9s 286ms/step - loss: 0.0080 - accuracy: 0.9974 - val_loss: 0.0616 - val_accuracy: 0.9884\n"
     ]
    },
    {
     "data": {
      "text/plain": [
       "<keras.callbacks.History at 0x2e6353ecb20>"
      ]
     },
     "execution_count": 13,
     "metadata": {},
     "output_type": "execute_result"
    }
   ],
   "source": [
    "model.fit(sequences_matrix,Y_train,batch_size=128,epochs=10,validation_split=0.2)"
   ]
  },
  {
   "cell_type": "markdown",
   "id": "ad18a14b",
   "metadata": {},
   "source": [
    "## Save the Model"
   ]
  },
  {
   "cell_type": "code",
   "execution_count": 16,
   "id": "887c124c",
   "metadata": {},
   "outputs": [],
   "source": [
    "model.save('sms_classifier.h5')"
   ]
  },
  {
   "cell_type": "markdown",
   "id": "981b5e30",
   "metadata": {},
   "source": [
    "## Preprocessing the Test Dataset"
   ]
  },
  {
   "cell_type": "code",
   "execution_count": 17,
   "id": "85593c6a",
   "metadata": {},
   "outputs": [],
   "source": [
    "test_sequences=tok.texts_to_sequences(X_test)\n",
    "test_sequences_matrix=pad_sequences(test_sequences,maxlen=max_len)"
   ]
  },
  {
   "cell_type": "markdown",
   "id": "f1a98f61",
   "metadata": {},
   "source": [
    "## Testing the Model"
   ]
  },
  {
   "cell_type": "code",
   "execution_count": 18,
   "id": "51418e7a",
   "metadata": {},
   "outputs": [
    {
     "name": "stdout",
     "output_type": "stream",
     "text": [
      "27/27 [==============================] - 1s 41ms/step - loss: 0.0382 - accuracy: 0.9928\n"
     ]
    }
   ],
   "source": [
    "accr=model.evaluate(test_sequences_matrix,Y_test)"
   ]
  },
  {
   "cell_type": "code",
   "execution_count": 20,
   "id": "0cd935b1",
   "metadata": {},
   "outputs": [
    {
     "name": "stdout",
     "output_type": "stream",
     "text": [
      "Test set\n",
      "LOSS : 0.038 \n",
      " ACCURACY : 0.993\n"
     ]
    }
   ],
   "source": [
    "print('Test set')\n",
    "print('LOSS : {:0.3f} \\n ACCURACY : {:0.3f}'.format(accr[0],accr[1])) \n"
   ]
  },
  {
   "cell_type": "code",
   "execution_count": null,
   "id": "14e3427c",
   "metadata": {},
   "outputs": [],
   "source": []
  }
 ],
 "metadata": {
  "kernelspec": {
   "display_name": "Python 3 (ipykernel)",
   "language": "python",
   "name": "python3"
  },
  "language_info": {
   "codemirror_mode": {
    "name": "ipython",
    "version": 3
   },
   "file_extension": ".py",
   "mimetype": "text/x-python",
   "name": "python",
   "nbconvert_exporter": "python",
   "pygments_lexer": "ipython3",
   "version": "3.9.13"
  }
 },
 "nbformat": 4,
 "nbformat_minor": 5
}
